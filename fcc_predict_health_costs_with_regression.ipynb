{
  "cells": [
    {
      "cell_type": "markdown",
      "source": [
        "## FCC Linear Regression Health Costs Calculator (ML with Python Project)"
      ],
      "metadata": {
        "id": "fhUBBHjYKIA_"
      }
    },
    {
      "cell_type": "markdown",
      "source": [
        "In this challenge, you will predict healthcare costs using a regression algorithm.\n",
        "\n",
        "You are given a dataset that contains information about different people including their healthcare costs. Use the data to predict healthcare costs based on new data.\n",
        "\n",
        "The first two cells of this notebook import libraries and the data.\n",
        "\n",
        "Make sure to:\n",
        "\n",
        "1. Preprocess data:\n",
        "  - Convert categorical data to numbers.\n",
        "  - Use 80% of the data as the ```train_dataset``` and 20% of the data as the ```test_dataset```.\n",
        "\n",
        "2. Split data between features and labels:\n",
        "  - ```pop``` off the \"expenses\" column from these datasets to create new datasets called ```train_labels``` and ```test_labels```.\n",
        "  - Use these labels when training your model.\n",
        "\n",
        "3. Create a model and train it with the ```train_dataset```.\n",
        "\n",
        "4. Run the final cell in this notebook to check your model. The final cell will use the unseen ```test_dataset``` to check how well the model generalizes.\n",
        "\n",
        "To pass the challenge, ```model.evaluate``` must return a Mean Absolute Error of under 3500. This means it predicts health care costs correctly within $3500.\n",
        "\n",
        "The final cell will also predict expenses using the ```test_dataset``` and graph the results.\n",
        "\n",
        "**Link:** https://www.freecodecamp.org/learn/machine-learning-with-python/machine-learning-with-python-projects/linear-regression-health-costs-calculator"
      ],
      "metadata": {
        "id": "RhO6YAsJJzYt"
      }
    },
    {
      "cell_type": "markdown",
      "source": [
        "### 1. Import Libraries"
      ],
      "metadata": {
        "id": "myGEFc5lJTpu"
      }
    },
    {
      "cell_type": "code",
      "execution_count": 1,
      "metadata": {
        "id": "1rRo8oNqZ-Rj",
        "colab": {
          "base_uri": "https://localhost:8080/"
        },
        "outputId": "027e4d6f-5d53-4480-feb3-82093bb99952"
      },
      "outputs": [
        {
          "output_type": "stream",
          "name": "stdout",
          "text": [
            "Colab only includes TensorFlow 2.x; %tensorflow_version has no effect.\n"
          ]
        }
      ],
      "source": [
        "# Import libraries. You may or may not use all of these.\n",
        "!pip install -q git+https://github.com/tensorflow/docs\n",
        "import matplotlib.pyplot as plt\n",
        "import numpy as np\n",
        "import pandas as pd\n",
        "\n",
        "try:\n",
        "  # %tensorflow_version only exists in Colab.\n",
        "  %tensorflow_version 2.x\n",
        "except Exception:\n",
        "  pass\n",
        "\n",
        "import tensorflow as tf\n",
        "\n",
        "from tensorflow import keras\n",
        "from tensorflow.keras import layers\n",
        "\n",
        "import tensorflow_docs as tfdocs\n",
        "import tensorflow_docs.plots\n",
        "import tensorflow_docs.modeling"
      ]
    },
    {
      "cell_type": "markdown",
      "source": [
        "### 2. Import Data"
      ],
      "metadata": {
        "id": "b8Z-58gMJYxl"
      }
    },
    {
      "cell_type": "code",
      "execution_count": 2,
      "metadata": {
        "id": "CiX2FI4gZtTt",
        "colab": {
          "base_uri": "https://localhost:8080/",
          "height": 241
        },
        "outputId": "8114236d-ea6d-440e-c3c6-e1d86eed35df"
      },
      "outputs": [
        {
          "output_type": "stream",
          "name": "stdout",
          "text": [
            "File ‘insurance.csv’ already there; not retrieving.\n",
            "\n"
          ]
        },
        {
          "output_type": "execute_result",
          "data": {
            "text/plain": [
              "      age     sex   bmi  children smoker     region  expenses\n",
              "1333   50    male  31.0         3     no  northwest  10600.55\n",
              "1334   18  female  31.9         0     no  northeast   2205.98\n",
              "1335   18  female  36.9         0     no  southeast   1629.83\n",
              "1336   21  female  25.8         0     no  southwest   2007.95\n",
              "1337   61  female  29.1         0    yes  northwest  29141.36"
            ],
            "text/html": [
              "\n",
              "  <div id=\"df-184f553f-dffa-4f59-9397-340891282b88\">\n",
              "    <div class=\"colab-df-container\">\n",
              "      <div>\n",
              "<style scoped>\n",
              "    .dataframe tbody tr th:only-of-type {\n",
              "        vertical-align: middle;\n",
              "    }\n",
              "\n",
              "    .dataframe tbody tr th {\n",
              "        vertical-align: top;\n",
              "    }\n",
              "\n",
              "    .dataframe thead th {\n",
              "        text-align: right;\n",
              "    }\n",
              "</style>\n",
              "<table border=\"1\" class=\"dataframe\">\n",
              "  <thead>\n",
              "    <tr style=\"text-align: right;\">\n",
              "      <th></th>\n",
              "      <th>age</th>\n",
              "      <th>sex</th>\n",
              "      <th>bmi</th>\n",
              "      <th>children</th>\n",
              "      <th>smoker</th>\n",
              "      <th>region</th>\n",
              "      <th>expenses</th>\n",
              "    </tr>\n",
              "  </thead>\n",
              "  <tbody>\n",
              "    <tr>\n",
              "      <th>1333</th>\n",
              "      <td>50</td>\n",
              "      <td>male</td>\n",
              "      <td>31.0</td>\n",
              "      <td>3</td>\n",
              "      <td>no</td>\n",
              "      <td>northwest</td>\n",
              "      <td>10600.55</td>\n",
              "    </tr>\n",
              "    <tr>\n",
              "      <th>1334</th>\n",
              "      <td>18</td>\n",
              "      <td>female</td>\n",
              "      <td>31.9</td>\n",
              "      <td>0</td>\n",
              "      <td>no</td>\n",
              "      <td>northeast</td>\n",
              "      <td>2205.98</td>\n",
              "    </tr>\n",
              "    <tr>\n",
              "      <th>1335</th>\n",
              "      <td>18</td>\n",
              "      <td>female</td>\n",
              "      <td>36.9</td>\n",
              "      <td>0</td>\n",
              "      <td>no</td>\n",
              "      <td>southeast</td>\n",
              "      <td>1629.83</td>\n",
              "    </tr>\n",
              "    <tr>\n",
              "      <th>1336</th>\n",
              "      <td>21</td>\n",
              "      <td>female</td>\n",
              "      <td>25.8</td>\n",
              "      <td>0</td>\n",
              "      <td>no</td>\n",
              "      <td>southwest</td>\n",
              "      <td>2007.95</td>\n",
              "    </tr>\n",
              "    <tr>\n",
              "      <th>1337</th>\n",
              "      <td>61</td>\n",
              "      <td>female</td>\n",
              "      <td>29.1</td>\n",
              "      <td>0</td>\n",
              "      <td>yes</td>\n",
              "      <td>northwest</td>\n",
              "      <td>29141.36</td>\n",
              "    </tr>\n",
              "  </tbody>\n",
              "</table>\n",
              "</div>\n",
              "      <button class=\"colab-df-convert\" onclick=\"convertToInteractive('df-184f553f-dffa-4f59-9397-340891282b88')\"\n",
              "              title=\"Convert this dataframe to an interactive table.\"\n",
              "              style=\"display:none;\">\n",
              "        \n",
              "  <svg xmlns=\"http://www.w3.org/2000/svg\" height=\"24px\"viewBox=\"0 0 24 24\"\n",
              "       width=\"24px\">\n",
              "    <path d=\"M0 0h24v24H0V0z\" fill=\"none\"/>\n",
              "    <path d=\"M18.56 5.44l.94 2.06.94-2.06 2.06-.94-2.06-.94-.94-2.06-.94 2.06-2.06.94zm-11 1L8.5 8.5l.94-2.06 2.06-.94-2.06-.94L8.5 2.5l-.94 2.06-2.06.94zm10 10l.94 2.06.94-2.06 2.06-.94-2.06-.94-.94-2.06-.94 2.06-2.06.94z\"/><path d=\"M17.41 7.96l-1.37-1.37c-.4-.4-.92-.59-1.43-.59-.52 0-1.04.2-1.43.59L10.3 9.45l-7.72 7.72c-.78.78-.78 2.05 0 2.83L4 21.41c.39.39.9.59 1.41.59.51 0 1.02-.2 1.41-.59l7.78-7.78 2.81-2.81c.8-.78.8-2.07 0-2.86zM5.41 20L4 18.59l7.72-7.72 1.47 1.35L5.41 20z\"/>\n",
              "  </svg>\n",
              "      </button>\n",
              "      \n",
              "  <style>\n",
              "    .colab-df-container {\n",
              "      display:flex;\n",
              "      flex-wrap:wrap;\n",
              "      gap: 12px;\n",
              "    }\n",
              "\n",
              "    .colab-df-convert {\n",
              "      background-color: #E8F0FE;\n",
              "      border: none;\n",
              "      border-radius: 50%;\n",
              "      cursor: pointer;\n",
              "      display: none;\n",
              "      fill: #1967D2;\n",
              "      height: 32px;\n",
              "      padding: 0 0 0 0;\n",
              "      width: 32px;\n",
              "    }\n",
              "\n",
              "    .colab-df-convert:hover {\n",
              "      background-color: #E2EBFA;\n",
              "      box-shadow: 0px 1px 2px rgba(60, 64, 67, 0.3), 0px 1px 3px 1px rgba(60, 64, 67, 0.15);\n",
              "      fill: #174EA6;\n",
              "    }\n",
              "\n",
              "    [theme=dark] .colab-df-convert {\n",
              "      background-color: #3B4455;\n",
              "      fill: #D2E3FC;\n",
              "    }\n",
              "\n",
              "    [theme=dark] .colab-df-convert:hover {\n",
              "      background-color: #434B5C;\n",
              "      box-shadow: 0px 1px 3px 1px rgba(0, 0, 0, 0.15);\n",
              "      filter: drop-shadow(0px 1px 2px rgba(0, 0, 0, 0.3));\n",
              "      fill: #FFFFFF;\n",
              "    }\n",
              "  </style>\n",
              "\n",
              "      <script>\n",
              "        const buttonEl =\n",
              "          document.querySelector('#df-184f553f-dffa-4f59-9397-340891282b88 button.colab-df-convert');\n",
              "        buttonEl.style.display =\n",
              "          google.colab.kernel.accessAllowed ? 'block' : 'none';\n",
              "\n",
              "        async function convertToInteractive(key) {\n",
              "          const element = document.querySelector('#df-184f553f-dffa-4f59-9397-340891282b88');\n",
              "          const dataTable =\n",
              "            await google.colab.kernel.invokeFunction('convertToInteractive',\n",
              "                                                     [key], {});\n",
              "          if (!dataTable) return;\n",
              "\n",
              "          const docLinkHtml = 'Like what you see? Visit the ' +\n",
              "            '<a target=\"_blank\" href=https://colab.research.google.com/notebooks/data_table.ipynb>data table notebook</a>'\n",
              "            + ' to learn more about interactive tables.';\n",
              "          element.innerHTML = '';\n",
              "          dataTable['output_type'] = 'display_data';\n",
              "          await google.colab.output.renderOutput(dataTable, element);\n",
              "          const docLink = document.createElement('div');\n",
              "          docLink.innerHTML = docLinkHtml;\n",
              "          element.appendChild(docLink);\n",
              "        }\n",
              "      </script>\n",
              "    </div>\n",
              "  </div>\n",
              "  "
            ]
          },
          "metadata": {},
          "execution_count": 2
        }
      ],
      "source": [
        "# Import data\n",
        "!wget -nc https://cdn.freecodecamp.org/project-data/health-costs/insurance.csv\n",
        "df = pd.read_csv('insurance.csv')\n",
        "df.tail()"
      ]
    },
    {
      "cell_type": "markdown",
      "source": [
        "### 3. Insert Your Code Here"
      ],
      "metadata": {
        "id": "qLJaCODUJdvd"
      }
    },
    {
      "cell_type": "markdown",
      "source": [
        "#### Know Your Data (Basic Info)"
      ],
      "metadata": {
        "id": "Ss7aFjmEMiBf"
      }
    },
    {
      "cell_type": "code",
      "execution_count": 3,
      "metadata": {
        "id": "LcopvQh3X-kX",
        "colab": {
          "base_uri": "https://localhost:8080/",
          "height": 206
        },
        "outputId": "84f60cf9-fc55-40e1-fecf-8124375052b3"
      },
      "outputs": [
        {
          "output_type": "execute_result",
          "data": {
            "text/plain": [
              "      age     sex   bmi  children smoker     region  expenses\n",
              "1333   50    male  31.0         3     no  northwest  10600.55\n",
              "1334   18  female  31.9         0     no  northeast   2205.98\n",
              "1335   18  female  36.9         0     no  southeast   1629.83\n",
              "1336   21  female  25.8         0     no  southwest   2007.95\n",
              "1337   61  female  29.1         0    yes  northwest  29141.36"
            ],
            "text/html": [
              "\n",
              "  <div id=\"df-29cc0d3b-4839-4caf-b43b-daf45a3b4c1c\">\n",
              "    <div class=\"colab-df-container\">\n",
              "      <div>\n",
              "<style scoped>\n",
              "    .dataframe tbody tr th:only-of-type {\n",
              "        vertical-align: middle;\n",
              "    }\n",
              "\n",
              "    .dataframe tbody tr th {\n",
              "        vertical-align: top;\n",
              "    }\n",
              "\n",
              "    .dataframe thead th {\n",
              "        text-align: right;\n",
              "    }\n",
              "</style>\n",
              "<table border=\"1\" class=\"dataframe\">\n",
              "  <thead>\n",
              "    <tr style=\"text-align: right;\">\n",
              "      <th></th>\n",
              "      <th>age</th>\n",
              "      <th>sex</th>\n",
              "      <th>bmi</th>\n",
              "      <th>children</th>\n",
              "      <th>smoker</th>\n",
              "      <th>region</th>\n",
              "      <th>expenses</th>\n",
              "    </tr>\n",
              "  </thead>\n",
              "  <tbody>\n",
              "    <tr>\n",
              "      <th>1333</th>\n",
              "      <td>50</td>\n",
              "      <td>male</td>\n",
              "      <td>31.0</td>\n",
              "      <td>3</td>\n",
              "      <td>no</td>\n",
              "      <td>northwest</td>\n",
              "      <td>10600.55</td>\n",
              "    </tr>\n",
              "    <tr>\n",
              "      <th>1334</th>\n",
              "      <td>18</td>\n",
              "      <td>female</td>\n",
              "      <td>31.9</td>\n",
              "      <td>0</td>\n",
              "      <td>no</td>\n",
              "      <td>northeast</td>\n",
              "      <td>2205.98</td>\n",
              "    </tr>\n",
              "    <tr>\n",
              "      <th>1335</th>\n",
              "      <td>18</td>\n",
              "      <td>female</td>\n",
              "      <td>36.9</td>\n",
              "      <td>0</td>\n",
              "      <td>no</td>\n",
              "      <td>southeast</td>\n",
              "      <td>1629.83</td>\n",
              "    </tr>\n",
              "    <tr>\n",
              "      <th>1336</th>\n",
              "      <td>21</td>\n",
              "      <td>female</td>\n",
              "      <td>25.8</td>\n",
              "      <td>0</td>\n",
              "      <td>no</td>\n",
              "      <td>southwest</td>\n",
              "      <td>2007.95</td>\n",
              "    </tr>\n",
              "    <tr>\n",
              "      <th>1337</th>\n",
              "      <td>61</td>\n",
              "      <td>female</td>\n",
              "      <td>29.1</td>\n",
              "      <td>0</td>\n",
              "      <td>yes</td>\n",
              "      <td>northwest</td>\n",
              "      <td>29141.36</td>\n",
              "    </tr>\n",
              "  </tbody>\n",
              "</table>\n",
              "</div>\n",
              "      <button class=\"colab-df-convert\" onclick=\"convertToInteractive('df-29cc0d3b-4839-4caf-b43b-daf45a3b4c1c')\"\n",
              "              title=\"Convert this dataframe to an interactive table.\"\n",
              "              style=\"display:none;\">\n",
              "        \n",
              "  <svg xmlns=\"http://www.w3.org/2000/svg\" height=\"24px\"viewBox=\"0 0 24 24\"\n",
              "       width=\"24px\">\n",
              "    <path d=\"M0 0h24v24H0V0z\" fill=\"none\"/>\n",
              "    <path d=\"M18.56 5.44l.94 2.06.94-2.06 2.06-.94-2.06-.94-.94-2.06-.94 2.06-2.06.94zm-11 1L8.5 8.5l.94-2.06 2.06-.94-2.06-.94L8.5 2.5l-.94 2.06-2.06.94zm10 10l.94 2.06.94-2.06 2.06-.94-2.06-.94-.94-2.06-.94 2.06-2.06.94z\"/><path d=\"M17.41 7.96l-1.37-1.37c-.4-.4-.92-.59-1.43-.59-.52 0-1.04.2-1.43.59L10.3 9.45l-7.72 7.72c-.78.78-.78 2.05 0 2.83L4 21.41c.39.39.9.59 1.41.59.51 0 1.02-.2 1.41-.59l7.78-7.78 2.81-2.81c.8-.78.8-2.07 0-2.86zM5.41 20L4 18.59l7.72-7.72 1.47 1.35L5.41 20z\"/>\n",
              "  </svg>\n",
              "      </button>\n",
              "      \n",
              "  <style>\n",
              "    .colab-df-container {\n",
              "      display:flex;\n",
              "      flex-wrap:wrap;\n",
              "      gap: 12px;\n",
              "    }\n",
              "\n",
              "    .colab-df-convert {\n",
              "      background-color: #E8F0FE;\n",
              "      border: none;\n",
              "      border-radius: 50%;\n",
              "      cursor: pointer;\n",
              "      display: none;\n",
              "      fill: #1967D2;\n",
              "      height: 32px;\n",
              "      padding: 0 0 0 0;\n",
              "      width: 32px;\n",
              "    }\n",
              "\n",
              "    .colab-df-convert:hover {\n",
              "      background-color: #E2EBFA;\n",
              "      box-shadow: 0px 1px 2px rgba(60, 64, 67, 0.3), 0px 1px 3px 1px rgba(60, 64, 67, 0.15);\n",
              "      fill: #174EA6;\n",
              "    }\n",
              "\n",
              "    [theme=dark] .colab-df-convert {\n",
              "      background-color: #3B4455;\n",
              "      fill: #D2E3FC;\n",
              "    }\n",
              "\n",
              "    [theme=dark] .colab-df-convert:hover {\n",
              "      background-color: #434B5C;\n",
              "      box-shadow: 0px 1px 3px 1px rgba(0, 0, 0, 0.15);\n",
              "      filter: drop-shadow(0px 1px 2px rgba(0, 0, 0, 0.3));\n",
              "      fill: #FFFFFF;\n",
              "    }\n",
              "  </style>\n",
              "\n",
              "      <script>\n",
              "        const buttonEl =\n",
              "          document.querySelector('#df-29cc0d3b-4839-4caf-b43b-daf45a3b4c1c button.colab-df-convert');\n",
              "        buttonEl.style.display =\n",
              "          google.colab.kernel.accessAllowed ? 'block' : 'none';\n",
              "\n",
              "        async function convertToInteractive(key) {\n",
              "          const element = document.querySelector('#df-29cc0d3b-4839-4caf-b43b-daf45a3b4c1c');\n",
              "          const dataTable =\n",
              "            await google.colab.kernel.invokeFunction('convertToInteractive',\n",
              "                                                     [key], {});\n",
              "          if (!dataTable) return;\n",
              "\n",
              "          const docLinkHtml = 'Like what you see? Visit the ' +\n",
              "            '<a target=\"_blank\" href=https://colab.research.google.com/notebooks/data_table.ipynb>data table notebook</a>'\n",
              "            + ' to learn more about interactive tables.';\n",
              "          element.innerHTML = '';\n",
              "          dataTable['output_type'] = 'display_data';\n",
              "          await google.colab.output.renderOutput(dataTable, element);\n",
              "          const docLink = document.createElement('div');\n",
              "          docLink.innerHTML = docLinkHtml;\n",
              "          element.appendChild(docLink);\n",
              "        }\n",
              "      </script>\n",
              "    </div>\n",
              "  </div>\n",
              "  "
            ]
          },
          "metadata": {},
          "execution_count": 3
        }
      ],
      "source": [
        "#df.head()\n",
        "df.tail()"
      ]
    },
    {
      "cell_type": "code",
      "source": [
        "df.shape # 1338 entries and 7 features"
      ],
      "metadata": {
        "colab": {
          "base_uri": "https://localhost:8080/"
        },
        "id": "RLSdE9InNrU5",
        "outputId": "2016b4a1-575d-44eb-b8f1-ac2dc0a3ad91"
      },
      "execution_count": 4,
      "outputs": [
        {
          "output_type": "execute_result",
          "data": {
            "text/plain": [
              "(1338, 7)"
            ]
          },
          "metadata": {},
          "execution_count": 4
        }
      ]
    },
    {
      "cell_type": "code",
      "source": [
        "df.info()"
      ],
      "metadata": {
        "colab": {
          "base_uri": "https://localhost:8080/"
        },
        "id": "eTUnZcOeNNMq",
        "outputId": "ca6ec168-0f3d-4375-cc44-b86f98809b8c"
      },
      "execution_count": 5,
      "outputs": [
        {
          "output_type": "stream",
          "name": "stdout",
          "text": [
            "<class 'pandas.core.frame.DataFrame'>\n",
            "RangeIndex: 1338 entries, 0 to 1337\n",
            "Data columns (total 7 columns):\n",
            " #   Column    Non-Null Count  Dtype  \n",
            "---  ------    --------------  -----  \n",
            " 0   age       1338 non-null   int64  \n",
            " 1   sex       1338 non-null   object \n",
            " 2   bmi       1338 non-null   float64\n",
            " 3   children  1338 non-null   int64  \n",
            " 4   smoker    1338 non-null   object \n",
            " 5   region    1338 non-null   object \n",
            " 6   expenses  1338 non-null   float64\n",
            "dtypes: float64(2), int64(2), object(3)\n",
            "memory usage: 73.3+ KB\n"
          ]
        }
      ]
    },
    {
      "cell_type": "code",
      "source": [
        "df.describe()"
      ],
      "metadata": {
        "colab": {
          "base_uri": "https://localhost:8080/",
          "height": 300
        },
        "id": "RLx1J72XM_Dg",
        "outputId": "569c081e-d180-47e3-a04b-9351c5147b8a"
      },
      "execution_count": 6,
      "outputs": [
        {
          "output_type": "execute_result",
          "data": {
            "text/plain": [
              "               age          bmi     children      expenses\n",
              "count  1338.000000  1338.000000  1338.000000   1338.000000\n",
              "mean     39.207025    30.665471     1.094918  13270.422414\n",
              "std      14.049960     6.098382     1.205493  12110.011240\n",
              "min      18.000000    16.000000     0.000000   1121.870000\n",
              "25%      27.000000    26.300000     0.000000   4740.287500\n",
              "50%      39.000000    30.400000     1.000000   9382.030000\n",
              "75%      51.000000    34.700000     2.000000  16639.915000\n",
              "max      64.000000    53.100000     5.000000  63770.430000"
            ],
            "text/html": [
              "\n",
              "  <div id=\"df-31b82c89-cd05-4389-8c3f-25e93bd0382a\">\n",
              "    <div class=\"colab-df-container\">\n",
              "      <div>\n",
              "<style scoped>\n",
              "    .dataframe tbody tr th:only-of-type {\n",
              "        vertical-align: middle;\n",
              "    }\n",
              "\n",
              "    .dataframe tbody tr th {\n",
              "        vertical-align: top;\n",
              "    }\n",
              "\n",
              "    .dataframe thead th {\n",
              "        text-align: right;\n",
              "    }\n",
              "</style>\n",
              "<table border=\"1\" class=\"dataframe\">\n",
              "  <thead>\n",
              "    <tr style=\"text-align: right;\">\n",
              "      <th></th>\n",
              "      <th>age</th>\n",
              "      <th>bmi</th>\n",
              "      <th>children</th>\n",
              "      <th>expenses</th>\n",
              "    </tr>\n",
              "  </thead>\n",
              "  <tbody>\n",
              "    <tr>\n",
              "      <th>count</th>\n",
              "      <td>1338.000000</td>\n",
              "      <td>1338.000000</td>\n",
              "      <td>1338.000000</td>\n",
              "      <td>1338.000000</td>\n",
              "    </tr>\n",
              "    <tr>\n",
              "      <th>mean</th>\n",
              "      <td>39.207025</td>\n",
              "      <td>30.665471</td>\n",
              "      <td>1.094918</td>\n",
              "      <td>13270.422414</td>\n",
              "    </tr>\n",
              "    <tr>\n",
              "      <th>std</th>\n",
              "      <td>14.049960</td>\n",
              "      <td>6.098382</td>\n",
              "      <td>1.205493</td>\n",
              "      <td>12110.011240</td>\n",
              "    </tr>\n",
              "    <tr>\n",
              "      <th>min</th>\n",
              "      <td>18.000000</td>\n",
              "      <td>16.000000</td>\n",
              "      <td>0.000000</td>\n",
              "      <td>1121.870000</td>\n",
              "    </tr>\n",
              "    <tr>\n",
              "      <th>25%</th>\n",
              "      <td>27.000000</td>\n",
              "      <td>26.300000</td>\n",
              "      <td>0.000000</td>\n",
              "      <td>4740.287500</td>\n",
              "    </tr>\n",
              "    <tr>\n",
              "      <th>50%</th>\n",
              "      <td>39.000000</td>\n",
              "      <td>30.400000</td>\n",
              "      <td>1.000000</td>\n",
              "      <td>9382.030000</td>\n",
              "    </tr>\n",
              "    <tr>\n",
              "      <th>75%</th>\n",
              "      <td>51.000000</td>\n",
              "      <td>34.700000</td>\n",
              "      <td>2.000000</td>\n",
              "      <td>16639.915000</td>\n",
              "    </tr>\n",
              "    <tr>\n",
              "      <th>max</th>\n",
              "      <td>64.000000</td>\n",
              "      <td>53.100000</td>\n",
              "      <td>5.000000</td>\n",
              "      <td>63770.430000</td>\n",
              "    </tr>\n",
              "  </tbody>\n",
              "</table>\n",
              "</div>\n",
              "      <button class=\"colab-df-convert\" onclick=\"convertToInteractive('df-31b82c89-cd05-4389-8c3f-25e93bd0382a')\"\n",
              "              title=\"Convert this dataframe to an interactive table.\"\n",
              "              style=\"display:none;\">\n",
              "        \n",
              "  <svg xmlns=\"http://www.w3.org/2000/svg\" height=\"24px\"viewBox=\"0 0 24 24\"\n",
              "       width=\"24px\">\n",
              "    <path d=\"M0 0h24v24H0V0z\" fill=\"none\"/>\n",
              "    <path d=\"M18.56 5.44l.94 2.06.94-2.06 2.06-.94-2.06-.94-.94-2.06-.94 2.06-2.06.94zm-11 1L8.5 8.5l.94-2.06 2.06-.94-2.06-.94L8.5 2.5l-.94 2.06-2.06.94zm10 10l.94 2.06.94-2.06 2.06-.94-2.06-.94-.94-2.06-.94 2.06-2.06.94z\"/><path d=\"M17.41 7.96l-1.37-1.37c-.4-.4-.92-.59-1.43-.59-.52 0-1.04.2-1.43.59L10.3 9.45l-7.72 7.72c-.78.78-.78 2.05 0 2.83L4 21.41c.39.39.9.59 1.41.59.51 0 1.02-.2 1.41-.59l7.78-7.78 2.81-2.81c.8-.78.8-2.07 0-2.86zM5.41 20L4 18.59l7.72-7.72 1.47 1.35L5.41 20z\"/>\n",
              "  </svg>\n",
              "      </button>\n",
              "      \n",
              "  <style>\n",
              "    .colab-df-container {\n",
              "      display:flex;\n",
              "      flex-wrap:wrap;\n",
              "      gap: 12px;\n",
              "    }\n",
              "\n",
              "    .colab-df-convert {\n",
              "      background-color: #E8F0FE;\n",
              "      border: none;\n",
              "      border-radius: 50%;\n",
              "      cursor: pointer;\n",
              "      display: none;\n",
              "      fill: #1967D2;\n",
              "      height: 32px;\n",
              "      padding: 0 0 0 0;\n",
              "      width: 32px;\n",
              "    }\n",
              "\n",
              "    .colab-df-convert:hover {\n",
              "      background-color: #E2EBFA;\n",
              "      box-shadow: 0px 1px 2px rgba(60, 64, 67, 0.3), 0px 1px 3px 1px rgba(60, 64, 67, 0.15);\n",
              "      fill: #174EA6;\n",
              "    }\n",
              "\n",
              "    [theme=dark] .colab-df-convert {\n",
              "      background-color: #3B4455;\n",
              "      fill: #D2E3FC;\n",
              "    }\n",
              "\n",
              "    [theme=dark] .colab-df-convert:hover {\n",
              "      background-color: #434B5C;\n",
              "      box-shadow: 0px 1px 3px 1px rgba(0, 0, 0, 0.15);\n",
              "      filter: drop-shadow(0px 1px 2px rgba(0, 0, 0, 0.3));\n",
              "      fill: #FFFFFF;\n",
              "    }\n",
              "  </style>\n",
              "\n",
              "      <script>\n",
              "        const buttonEl =\n",
              "          document.querySelector('#df-31b82c89-cd05-4389-8c3f-25e93bd0382a button.colab-df-convert');\n",
              "        buttonEl.style.display =\n",
              "          google.colab.kernel.accessAllowed ? 'block' : 'none';\n",
              "\n",
              "        async function convertToInteractive(key) {\n",
              "          const element = document.querySelector('#df-31b82c89-cd05-4389-8c3f-25e93bd0382a');\n",
              "          const dataTable =\n",
              "            await google.colab.kernel.invokeFunction('convertToInteractive',\n",
              "                                                     [key], {});\n",
              "          if (!dataTable) return;\n",
              "\n",
              "          const docLinkHtml = 'Like what you see? Visit the ' +\n",
              "            '<a target=\"_blank\" href=https://colab.research.google.com/notebooks/data_table.ipynb>data table notebook</a>'\n",
              "            + ' to learn more about interactive tables.';\n",
              "          element.innerHTML = '';\n",
              "          dataTable['output_type'] = 'display_data';\n",
              "          await google.colab.output.renderOutput(dataTable, element);\n",
              "          const docLink = document.createElement('div');\n",
              "          docLink.innerHTML = docLinkHtml;\n",
              "          element.appendChild(docLink);\n",
              "        }\n",
              "      </script>\n",
              "    </div>\n",
              "  </div>\n",
              "  "
            ]
          },
          "metadata": {},
          "execution_count": 6
        }
      ]
    },
    {
      "cell_type": "code",
      "source": [
        "df.describe().transpose()"
      ],
      "metadata": {
        "colab": {
          "base_uri": "https://localhost:8080/",
          "height": 175
        },
        "id": "McoDh_jduHBB",
        "outputId": "8272fa56-0043-4294-c940-bcdafacd8068"
      },
      "execution_count": 7,
      "outputs": [
        {
          "output_type": "execute_result",
          "data": {
            "text/plain": [
              "           count          mean           std      min        25%      50%  \\\n",
              "age       1338.0     39.207025     14.049960    18.00    27.0000    39.00   \n",
              "bmi       1338.0     30.665471      6.098382    16.00    26.3000    30.40   \n",
              "children  1338.0      1.094918      1.205493     0.00     0.0000     1.00   \n",
              "expenses  1338.0  13270.422414  12110.011240  1121.87  4740.2875  9382.03   \n",
              "\n",
              "                75%       max  \n",
              "age          51.000     64.00  \n",
              "bmi          34.700     53.10  \n",
              "children      2.000      5.00  \n",
              "expenses  16639.915  63770.43  "
            ],
            "text/html": [
              "\n",
              "  <div id=\"df-cf9500fd-6809-4098-92f8-d323050be1a2\">\n",
              "    <div class=\"colab-df-container\">\n",
              "      <div>\n",
              "<style scoped>\n",
              "    .dataframe tbody tr th:only-of-type {\n",
              "        vertical-align: middle;\n",
              "    }\n",
              "\n",
              "    .dataframe tbody tr th {\n",
              "        vertical-align: top;\n",
              "    }\n",
              "\n",
              "    .dataframe thead th {\n",
              "        text-align: right;\n",
              "    }\n",
              "</style>\n",
              "<table border=\"1\" class=\"dataframe\">\n",
              "  <thead>\n",
              "    <tr style=\"text-align: right;\">\n",
              "      <th></th>\n",
              "      <th>count</th>\n",
              "      <th>mean</th>\n",
              "      <th>std</th>\n",
              "      <th>min</th>\n",
              "      <th>25%</th>\n",
              "      <th>50%</th>\n",
              "      <th>75%</th>\n",
              "      <th>max</th>\n",
              "    </tr>\n",
              "  </thead>\n",
              "  <tbody>\n",
              "    <tr>\n",
              "      <th>age</th>\n",
              "      <td>1338.0</td>\n",
              "      <td>39.207025</td>\n",
              "      <td>14.049960</td>\n",
              "      <td>18.00</td>\n",
              "      <td>27.0000</td>\n",
              "      <td>39.00</td>\n",
              "      <td>51.000</td>\n",
              "      <td>64.00</td>\n",
              "    </tr>\n",
              "    <tr>\n",
              "      <th>bmi</th>\n",
              "      <td>1338.0</td>\n",
              "      <td>30.665471</td>\n",
              "      <td>6.098382</td>\n",
              "      <td>16.00</td>\n",
              "      <td>26.3000</td>\n",
              "      <td>30.40</td>\n",
              "      <td>34.700</td>\n",
              "      <td>53.10</td>\n",
              "    </tr>\n",
              "    <tr>\n",
              "      <th>children</th>\n",
              "      <td>1338.0</td>\n",
              "      <td>1.094918</td>\n",
              "      <td>1.205493</td>\n",
              "      <td>0.00</td>\n",
              "      <td>0.0000</td>\n",
              "      <td>1.00</td>\n",
              "      <td>2.000</td>\n",
              "      <td>5.00</td>\n",
              "    </tr>\n",
              "    <tr>\n",
              "      <th>expenses</th>\n",
              "      <td>1338.0</td>\n",
              "      <td>13270.422414</td>\n",
              "      <td>12110.011240</td>\n",
              "      <td>1121.87</td>\n",
              "      <td>4740.2875</td>\n",
              "      <td>9382.03</td>\n",
              "      <td>16639.915</td>\n",
              "      <td>63770.43</td>\n",
              "    </tr>\n",
              "  </tbody>\n",
              "</table>\n",
              "</div>\n",
              "      <button class=\"colab-df-convert\" onclick=\"convertToInteractive('df-cf9500fd-6809-4098-92f8-d323050be1a2')\"\n",
              "              title=\"Convert this dataframe to an interactive table.\"\n",
              "              style=\"display:none;\">\n",
              "        \n",
              "  <svg xmlns=\"http://www.w3.org/2000/svg\" height=\"24px\"viewBox=\"0 0 24 24\"\n",
              "       width=\"24px\">\n",
              "    <path d=\"M0 0h24v24H0V0z\" fill=\"none\"/>\n",
              "    <path d=\"M18.56 5.44l.94 2.06.94-2.06 2.06-.94-2.06-.94-.94-2.06-.94 2.06-2.06.94zm-11 1L8.5 8.5l.94-2.06 2.06-.94-2.06-.94L8.5 2.5l-.94 2.06-2.06.94zm10 10l.94 2.06.94-2.06 2.06-.94-2.06-.94-.94-2.06-.94 2.06-2.06.94z\"/><path d=\"M17.41 7.96l-1.37-1.37c-.4-.4-.92-.59-1.43-.59-.52 0-1.04.2-1.43.59L10.3 9.45l-7.72 7.72c-.78.78-.78 2.05 0 2.83L4 21.41c.39.39.9.59 1.41.59.51 0 1.02-.2 1.41-.59l7.78-7.78 2.81-2.81c.8-.78.8-2.07 0-2.86zM5.41 20L4 18.59l7.72-7.72 1.47 1.35L5.41 20z\"/>\n",
              "  </svg>\n",
              "      </button>\n",
              "      \n",
              "  <style>\n",
              "    .colab-df-container {\n",
              "      display:flex;\n",
              "      flex-wrap:wrap;\n",
              "      gap: 12px;\n",
              "    }\n",
              "\n",
              "    .colab-df-convert {\n",
              "      background-color: #E8F0FE;\n",
              "      border: none;\n",
              "      border-radius: 50%;\n",
              "      cursor: pointer;\n",
              "      display: none;\n",
              "      fill: #1967D2;\n",
              "      height: 32px;\n",
              "      padding: 0 0 0 0;\n",
              "      width: 32px;\n",
              "    }\n",
              "\n",
              "    .colab-df-convert:hover {\n",
              "      background-color: #E2EBFA;\n",
              "      box-shadow: 0px 1px 2px rgba(60, 64, 67, 0.3), 0px 1px 3px 1px rgba(60, 64, 67, 0.15);\n",
              "      fill: #174EA6;\n",
              "    }\n",
              "\n",
              "    [theme=dark] .colab-df-convert {\n",
              "      background-color: #3B4455;\n",
              "      fill: #D2E3FC;\n",
              "    }\n",
              "\n",
              "    [theme=dark] .colab-df-convert:hover {\n",
              "      background-color: #434B5C;\n",
              "      box-shadow: 0px 1px 3px 1px rgba(0, 0, 0, 0.15);\n",
              "      filter: drop-shadow(0px 1px 2px rgba(0, 0, 0, 0.3));\n",
              "      fill: #FFFFFF;\n",
              "    }\n",
              "  </style>\n",
              "\n",
              "      <script>\n",
              "        const buttonEl =\n",
              "          document.querySelector('#df-cf9500fd-6809-4098-92f8-d323050be1a2 button.colab-df-convert');\n",
              "        buttonEl.style.display =\n",
              "          google.colab.kernel.accessAllowed ? 'block' : 'none';\n",
              "\n",
              "        async function convertToInteractive(key) {\n",
              "          const element = document.querySelector('#df-cf9500fd-6809-4098-92f8-d323050be1a2');\n",
              "          const dataTable =\n",
              "            await google.colab.kernel.invokeFunction('convertToInteractive',\n",
              "                                                     [key], {});\n",
              "          if (!dataTable) return;\n",
              "\n",
              "          const docLinkHtml = 'Like what you see? Visit the ' +\n",
              "            '<a target=\"_blank\" href=https://colab.research.google.com/notebooks/data_table.ipynb>data table notebook</a>'\n",
              "            + ' to learn more about interactive tables.';\n",
              "          element.innerHTML = '';\n",
              "          dataTable['output_type'] = 'display_data';\n",
              "          await google.colab.output.renderOutput(dataTable, element);\n",
              "          const docLink = document.createElement('div');\n",
              "          docLink.innerHTML = docLinkHtml;\n",
              "          element.appendChild(docLink);\n",
              "        }\n",
              "      </script>\n",
              "    </div>\n",
              "  </div>\n",
              "  "
            ]
          },
          "metadata": {},
          "execution_count": 7
        }
      ]
    },
    {
      "cell_type": "code",
      "source": [
        "df.columns"
      ],
      "metadata": {
        "colab": {
          "base_uri": "https://localhost:8080/"
        },
        "id": "gIql2SPcN-UM",
        "outputId": "35657050-cab8-424d-a789-e1c647906d9e"
      },
      "execution_count": 8,
      "outputs": [
        {
          "output_type": "execute_result",
          "data": {
            "text/plain": [
              "Index(['age', 'sex', 'bmi', 'children', 'smoker', 'region', 'expenses'], dtype='object')"
            ]
          },
          "metadata": {},
          "execution_count": 8
        }
      ]
    },
    {
      "cell_type": "code",
      "source": [
        "# Number of patients for each age (from 18 to 64 years old)\n",
        "df['age'].value_counts().sort_index(ascending=True).plot(kind='bar', figsize=(12,5), xlabel='Patient Age', ylabel='Count')"
      ],
      "metadata": {
        "colab": {
          "base_uri": "https://localhost:8080/",
          "height": 353
        },
        "id": "fMmsXAePOAAW",
        "outputId": "047f760c-3ccd-415c-8ec8-4cc31dfec7ca"
      },
      "execution_count": 9,
      "outputs": [
        {
          "output_type": "execute_result",
          "data": {
            "text/plain": [
              "<matplotlib.axes._subplots.AxesSubplot at 0x7fa253292a60>"
            ]
          },
          "metadata": {},
          "execution_count": 9
        },
        {
          "output_type": "display_data",
          "data": {
            "text/plain": [
              "<Figure size 864x360 with 1 Axes>"
            ],
            "image/png": "[encoded data removed]"
          },
          "metadata": {
            "needs_background": "light"
          }
        }
      ]
    },
    {
      "cell_type": "code",
      "source": [
        "# Patients age frequency (histogram)\n",
        "df.age.hist(bins=30)"
      ],
      "metadata": {
        "colab": {
          "base_uri": "https://localhost:8080/",
          "height": 282
        },
        "id": "7U5wHnxRR2fh",
        "outputId": "c4d5b6a9-a787-4c08-b37c-0b2b6bd6a4f2"
      },
      "execution_count": 10,
      "outputs": [
        {
          "output_type": "execute_result",
          "data": {
            "text/plain": [
              "<matplotlib.axes._subplots.AxesSubplot at 0x7fa2531708e0>"
            ]
          },
          "metadata": {},
          "execution_count": 10
        },
        {
          "output_type": "display_data",
          "data": {
            "text/plain": [
              "<Figure size 432x288 with 1 Axes>"
            ],
            "image/png": "[encoded data removed]"
          },
          "metadata": {
            "needs_background": "light"
          }
        }
      ]
    },
    {
      "cell_type": "code",
      "source": [
        "# Number of patients per sex\n",
        "print(df['sex'].value_counts(sort=False, ascending=True))\n",
        "df.sex.value_counts(sort=False, ascending=True).plot(kind='barh')"
      ],
      "metadata": {
        "colab": {
          "base_uri": "https://localhost:8080/",
          "height": 334
        },
        "id": "bAVt_BPQPGqh",
        "outputId": "62efd4be-41cb-4334-a2e9-a29ea3ebf1d4"
      },
      "execution_count": 11,
      "outputs": [
        {
          "output_type": "stream",
          "name": "stdout",
          "text": [
            "female    662\n",
            "male      676\n",
            "Name: sex, dtype: int64\n"
          ]
        },
        {
          "output_type": "execute_result",
          "data": {
            "text/plain": [
              "<matplotlib.axes._subplots.AxesSubplot at 0x7fa252bac550>"
            ]
          },
          "metadata": {},
          "execution_count": 11
        },
        {
          "output_type": "display_data",
          "data": {
            "text/plain": [
              "<Figure size 432x288 with 1 Axes>"
            ],
            "image/png": "[encoded data removed]"
          },
          "metadata": {
            "needs_background": "light"
          }
        }
      ]
    },
    {
      "cell_type": "code",
      "source": [
        "# Patients bmi frequency (histogram)\n",
        "#df.bmi.hist(bins=30, histtype='bar')\n",
        "df.bmi.hist(bins=30, histtype='step')"
      ],
      "metadata": {
        "colab": {
          "base_uri": "https://localhost:8080/",
          "height": 282
        },
        "id": "RCxjJyNNSkyS",
        "outputId": "f4e3e8a4-2472-405c-f911-791c4f175391"
      },
      "execution_count": 12,
      "outputs": [
        {
          "output_type": "execute_result",
          "data": {
            "text/plain": [
              "<matplotlib.axes._subplots.AxesSubplot at 0x7fa252ba7f40>"
            ]
          },
          "metadata": {},
          "execution_count": 12
        },
        {
          "output_type": "display_data",
          "data": {
            "text/plain": [
              "<Figure size 432x288 with 1 Axes>"
            ],
            "image/png": "[encoded data removed]"
          },
          "metadata": {
            "needs_background": "light"
          }
        }
      ]
    },
    {
      "cell_type": "code",
      "source": [
        "# Number of children each patient has\n",
        "print(df['children'].value_counts())\n",
        "df.children.value_counts().plot(kind='barh')\n",
        "plt.show()\n",
        "df.children.hist(bins=20)\n",
        "plt.show()"
      ],
      "metadata": {
        "colab": {
          "base_uri": "https://localhost:8080/",
          "height": 637
        },
        "id": "GXsspGWsPazu",
        "outputId": "f5d675d0-46ad-4f8a-a021-342377a2337f"
      },
      "execution_count": 13,
      "outputs": [
        {
          "output_type": "stream",
          "name": "stdout",
          "text": [
            "0    574\n",
            "1    324\n",
            "2    240\n",
            "3    157\n",
            "4     25\n",
            "5     18\n",
            "Name: children, dtype: int64\n"
          ]
        },
        {
          "output_type": "display_data",
          "data": {
            "text/plain": [
              "<Figure size 432x288 with 1 Axes>"
            ],
            "image/png": "[encoded data removed]"
          },
          "metadata": {
            "needs_background": "light"
          }
        },
        {
          "output_type": "display_data",
          "data": {
            "text/plain": [
              "<Figure size 432x288 with 1 Axes>"
            ],
            "image/png": "[encoded data removed]"
          },
          "metadata": {
            "needs_background": "light"
          }
        }
      ]
    },
    {
      "cell_type": "code",
      "source": [
        "# Number of smoking and not-smoking patients\n",
        "print(df['smoker'].value_counts())\n",
        "df['smoker'].value_counts().plot(kind='barh')"
      ],
      "metadata": {
        "colab": {
          "base_uri": "https://localhost:8080/",
          "height": 334
        },
        "id": "A4OpPP3JPeuG",
        "outputId": "835bffa5-97cc-4091-b191-3bd3c6b2ee97"
      },
      "execution_count": 14,
      "outputs": [
        {
          "output_type": "stream",
          "name": "stdout",
          "text": [
            "no     1064\n",
            "yes     274\n",
            "Name: smoker, dtype: int64\n"
          ]
        },
        {
          "output_type": "execute_result",
          "data": {
            "text/plain": [
              "<matplotlib.axes._subplots.AxesSubplot at 0x7fa252a3f9d0>"
            ]
          },
          "metadata": {},
          "execution_count": 14
        },
        {
          "output_type": "display_data",
          "data": {
            "text/plain": [
              "<Figure size 432x288 with 1 Axes>"
            ],
            "image/png": "[encoded data removed]"
          },
          "metadata": {
            "needs_background": "light"
          }
        }
      ]
    },
    {
      "cell_type": "code",
      "source": [
        "# Number of patients per region\n",
        "print(df['region'].value_counts())\n",
        "df['region'].hist(bins=10, grid=False)"
      ],
      "metadata": {
        "colab": {
          "base_uri": "https://localhost:8080/",
          "height": 369
        },
        "id": "98yQsILiPhxU",
        "outputId": "515cffa6-d136-4a3f-bcc3-57c57045f185"
      },
      "execution_count": 15,
      "outputs": [
        {
          "output_type": "stream",
          "name": "stdout",
          "text": [
            "southeast    364\n",
            "southwest    325\n",
            "northwest    325\n",
            "northeast    324\n",
            "Name: region, dtype: int64\n"
          ]
        },
        {
          "output_type": "execute_result",
          "data": {
            "text/plain": [
              "<matplotlib.axes._subplots.AxesSubplot at 0x7fa2529904f0>"
            ]
          },
          "metadata": {},
          "execution_count": 15
        },
        {
          "output_type": "display_data",
          "data": {
            "text/plain": [
              "<Figure size 432x288 with 1 Axes>"
            ],
            "image/png": "[encoded data removed]"
          },
          "metadata": {
            "needs_background": "light"
          }
        }
      ]
    },
    {
      "cell_type": "code",
      "source": [
        "# Patient health cost expenses\n",
        "print(df['expenses'].describe())\n",
        "df['expenses'].describe().plot(kind='line')"
      ],
      "metadata": {
        "colab": {
          "base_uri": "https://localhost:8080/",
          "height": 439
        },
        "id": "vB29oiU7PjnP",
        "outputId": "6b860894-4b97-47b2-ae76-26aec0eb428e"
      },
      "execution_count": 16,
      "outputs": [
        {
          "output_type": "stream",
          "name": "stdout",
          "text": [
            "count     1338.000000\n",
            "mean     13270.422414\n",
            "std      12110.011240\n",
            "min       1121.870000\n",
            "25%       4740.287500\n",
            "50%       9382.030000\n",
            "75%      16639.915000\n",
            "max      63770.430000\n",
            "Name: expenses, dtype: float64\n"
          ]
        },
        {
          "output_type": "execute_result",
          "data": {
            "text/plain": [
              "<matplotlib.axes._subplots.AxesSubplot at 0x7fa25296d730>"
            ]
          },
          "metadata": {},
          "execution_count": 16
        },
        {
          "output_type": "display_data",
          "data": {
            "text/plain": [
              "<Figure size 432x288 with 1 Axes>"
            ],
            "image/png": "[encoded data removed]"
          },
          "metadata": {
            "needs_background": "light"
          }
        }
      ]
    },
    {
      "cell_type": "markdown",
      "source": [
        "##### Special Plot"
      ],
      "metadata": {
        "id": "1LD4LiLmvT2o"
      }
    },
    {
      "cell_type": "code",
      "source": [
        "# Review the joint distribution of a few pairs of columns from the training set\n",
        "#import seaborn as sns\n",
        "#sns.pairplot(train_dataset[df.columns.to_list()], diag_kind='kde')"
      ],
      "metadata": {
        "id": "FAYJKaaYgtvD"
      },
      "execution_count": 17,
      "outputs": []
    },
    {
      "cell_type": "markdown",
      "source": [
        "#### Auxiliary Variables/Functions"
      ],
      "metadata": {
        "id": "LDFjr4z17s8o"
      }
    },
    {
      "cell_type": "code",
      "source": [
        "# Make NumPy printouts easier to read\n",
        "#np.set_printoptions(precision=3, suppress=True)\n",
        "\n",
        "# Store [loss, mae, mse, fit] model evaluation results for later comparison\n",
        "test_results = {}\n",
        "\n",
        "# Store [ model, history, test_features, test_labels, fit ] for easier access\n",
        "models_data = {}"
      ],
      "metadata": {
        "id": "wJViMkw4YZSH"
      },
      "execution_count": 18,
      "outputs": []
    },
    {
      "cell_type": "code",
      "source": [
        "# Plot loss and val_loss\n",
        "def plot_loss(history):\n",
        "  plt.plot(history.history['loss'], label='loss')\n",
        "  plt.plot(history.history['val_loss'], label='val_loss')\n",
        "  plt.ylim([0, 15_000])\n",
        "  plt.xlabel('Epoch')\n",
        "  plt.ylabel('Error [expenses]')\n",
        "  plt.legend()\n",
        "  plt.grid(True)"
      ],
      "metadata": {
        "id": "XeMCOTQl8DIi"
      },
      "execution_count": 19,
      "outputs": []
    },
    {
      "cell_type": "code",
      "source": [
        "def plot_models_history(models_data):\n",
        "  n_models = len(models_data)\n",
        "  \n",
        "  i = 0\n",
        "  fig, axes = plt.subplots(nrows=1, ncols=n_models, figsize=(8, 4),\n",
        "      sharey=True, tight_layout=True)\n",
        "  fig.text(0.53, -0.02, 'Epoch', ha='center', fontsize='large')\n",
        "  fig.text(-0.01, 0.5, 'Error [expenses]', va='center', rotation='vertical', fontsize='large')\n",
        "  \n",
        "  for m in models_data:\n",
        "\n",
        "    history = models_data[m][1]\n",
        "\n",
        "    axes[i].set_title(m, fontsize='x-large')\n",
        "    axes[i].plot(\n",
        "        history.history['loss'],\n",
        "        color='tab:blue', marker=None, markersize=None,\n",
        "        linestyle='-', linewidth=2,\n",
        "        label='loss')\n",
        "    axes[i].plot(\n",
        "        history.history['val_loss'],\n",
        "        color='orange', marker=None, markersize=None,\n",
        "        linestyle='-', linewidth=2,\n",
        "        label='val_loss')\n",
        "    axes[i].legend()\n",
        "    axes[i].set_ylim([0, 15_000])\n",
        "    #axes[i].set_xlabel('Epoch')\n",
        "    #axes[i].set_ylabel('Error [expenses]')\n",
        "    axes[i].grid(True)\n",
        "    #fig.tight_layout() # prevents graph overlap\n",
        "    i+=1\n",
        "\n",
        "# color Reference: r g b c m y k w C0 tab:blue\n",
        "# linestyle Reference: - : -- -.\n",
        "# marker Reference: o * . , x X + P s D d p H h v ^ < > 1 2 3 4 | _"
      ],
      "metadata": {
        "id": "XoTXGqrrWdzs"
      },
      "execution_count": 20,
      "outputs": []
    },
    {
      "cell_type": "code",
      "source": [
        "# Get stats from model training history\n",
        "def show_history_as_dataframe(history):\n",
        "  hist = pd.DataFrame(history.history)\n",
        "  hist['epoch'] = history.epoch\n",
        "  return hist"
      ],
      "metadata": {
        "id": "nTviKDGP9DS5"
      },
      "execution_count": 21,
      "outputs": []
    },
    {
      "cell_type": "code",
      "source": [
        "# Make predictions\n",
        "def plot_predictions(model, test_labels, test_predictions):\n",
        "  a = plt.axes(aspect='equal')\n",
        "  plt.scatter(x=test_labels, y=test_predictions)\n",
        "  #plt.scatter(test_labels, test_predictions, color='k', label='Predictions')\n",
        "  plt.xlabel('True Values [expenses]')\n",
        "  plt.ylabel('Predictions [expenses]')\n",
        "  #plt.legend()\n",
        "  #plt.axis('square')\n",
        "  lims = [0, 65_000]\n",
        "  plt.xlim(lims)\n",
        "  plt.ylim(lims)\n",
        "  _ = plt.plot(lims, lims)\n",
        "  plt.show()"
      ],
      "metadata": {
        "id": "yHXAB0kW_1jE"
      },
      "execution_count": 22,
      "outputs": []
    },
    {
      "cell_type": "code",
      "source": [
        "# Let’s take a look at the error distribution\n",
        "def plot_prediction_error_distribution(test_predictions, test_labels):\n",
        "  error = test_predictions - test_labels\n",
        "  plt.hist(error, bins = 25)\n",
        "  plt.xlabel(\"Prediction Error [expenses]\")\n",
        "  _ = plt.ylabel(\"Count\")\n",
        "  plt.show()"
      ],
      "metadata": {
        "id": "P52Pu21IAY0p"
      },
      "execution_count": 23,
      "outputs": []
    },
    {
      "cell_type": "code",
      "source": [
        "def assess_training_loss(history, fit_tolerance):\n",
        "  # Calculate difference between validation loss and training loss\n",
        "  training_loss = pd.DataFrame(history.history)['mean_absolute_error'][-1:].to_list()[0]\n",
        "  training_val_loss = pd.DataFrame(history.history)['val_mean_absolute_error'][-1:].to_list()[0]\n",
        "  diff = training_val_loss - training_loss\n",
        "\n",
        "  # Set fit tolerance and calculate fit (if over, under, or good fit)\n",
        "  fit_min = training_val_loss - fit_tolerance\n",
        "  fit_max = training_val_loss + fit_tolerance\n",
        "  fit = ''\n",
        "  if training_loss < fit_min: fit = 'OVERFIT'\n",
        "  elif training_loss > fit_max: fit = 'UNDERFIT'\n",
        "  else: fit = 'Good Fit'\n",
        "\n",
        "  return [training_loss, training_val_loss, diff, fit_min, fit_max, fit]\n",
        "#fit_tolerance = 750\n",
        "#[training_loss, training_val_loss, diff, fit_min, fit_max, fit] = assess_training_loss(history, fit_tolerance)"
      ],
      "metadata": {
        "id": "KGFsMiTA1J2o"
      },
      "execution_count": 24,
      "outputs": []
    },
    {
      "cell_type": "code",
      "source": [
        "def print_stats(history, loss):\n",
        "\n",
        "  fit_tolerance = 750\n",
        "  [training_loss, training_val_loss, diff, fit_min, fit_max, fit] = assess_training_loss(history, fit_tolerance)\n",
        "\n",
        "  # Calculate if challenge passes (i.e. if loss (mean absolute error) < 3500)\n",
        "  challenge_passed = ''\n",
        "  if loss < 3500: challenge_passed = 'TRUE'\n",
        "  else: challenge_passed = 'FALSE'\n",
        "\n",
        "  # Print stats\n",
        "  print('\\n' + '-'*40)\n",
        "  print('FIT')\n",
        "  print('Tolerance:', fit_tolerance)\n",
        "  print('Range: [{}, {}]'.format(fit_min, fit_max))\n",
        "\n",
        "  print('\\nTRAINING')\n",
        "  print('Loss:', training_loss)\n",
        "  print('Validation Loss:', training_val_loss)  \n",
        "  print('Diff.: {diff} ({fit})'.format(diff=diff, fit=fit))\n",
        "  \n",
        "  print('\\nEVALUATION')\n",
        "  print('Loss (Mean Absolute Error):', loss)\n",
        "  print('Challenge passed (mae < 3500): {passed}'.format(passed=challenge_passed))"
      ],
      "metadata": {
        "id": "MJvvsQkrjoGN"
      },
      "execution_count": 25,
      "outputs": []
    },
    {
      "cell_type": "code",
      "source": [
        "def plot_models_comparison(test_results):\n",
        "  plt.title('Model Loss Comparison')\n",
        "  plt.xlabel('Models')\n",
        "  plt.ylabel('Loss (mae)')\n",
        "  results = []; models = []\n",
        "  for model in test_results:\n",
        "    results.append(test_results[model][0])\n",
        "    models.append(model)\n",
        "  plt.bar(x=models[0], height=results[0], width=0.4)\n",
        "  plt.bar(x=models[1], height=results[1], width=0.4)\n",
        "  plt.axhline(y=max(results), color=\"tab:blue\", linestyle=\"--\", label='highest loss (worst)')\n",
        "  plt.axhline(y=min(results), color=\"tab:orange\", linestyle=\"--\", label='lowest loss (better)')\n",
        "  plt.legend(loc='lower center')\n",
        "  plt.show()"
      ],
      "metadata": {
        "id": "2fZwOYOczs5L"
      },
      "execution_count": 26,
      "outputs": []
    },
    {
      "cell_type": "markdown",
      "source": [
        "#### 1. Clean Data"
      ],
      "metadata": {
        "id": "YUiF0tNs0Vyd"
      }
    },
    {
      "cell_type": "code",
      "source": [
        "# 1. Clean Data\n",
        "\n",
        "# 1.1. Make copy of dataframe\n",
        "df_clean = df.copy()"
      ],
      "metadata": {
        "id": "8PprwY4YyjmU"
      },
      "execution_count": 27,
      "outputs": []
    },
    {
      "cell_type": "code",
      "source": [
        "# 1.2. Check for NaN values and drop if necessary\n",
        "df_clean.isna().sum()"
      ],
      "metadata": {
        "colab": {
          "base_uri": "https://localhost:8080/"
        },
        "id": "f-ntmcDQYy3r",
        "outputId": "43a78395-a1d8-4425-f4a5-4e3a7636e5da"
      },
      "execution_count": 28,
      "outputs": [
        {
          "output_type": "execute_result",
          "data": {
            "text/plain": [
              "age         0\n",
              "sex         0\n",
              "bmi         0\n",
              "children    0\n",
              "smoker      0\n",
              "region      0\n",
              "expenses    0\n",
              "dtype: int64"
            ]
          },
          "metadata": {},
          "execution_count": 28
        }
      ]
    },
    {
      "cell_type": "code",
      "source": [
        "# 1.3. Drop any NaN values\n",
        "#df_clean = df_clean.dropna()\n",
        "\n",
        "#df_clean.info()"
      ],
      "metadata": {
        "id": "YFmu6K8yY4nz"
      },
      "execution_count": 29,
      "outputs": []
    },
    {
      "cell_type": "markdown",
      "source": [
        "#### 2. Data Preprocessing (Partial)"
      ],
      "metadata": {
        "id": "iJB22UWHNVGk"
      }
    },
    {
      "cell_type": "code",
      "source": [
        "# 2. Data Preprocessing\n",
        "\n",
        "# 2.1. Convert categorical data into numeric data (to numbers).\n",
        "# Columns 'sex', 'smoker' and 'region' are categorical; the remnants are numeric.\n",
        "df_clean['sex'] = df_clean['sex'].map( { 'female': 1, 'male': 2 } )\n",
        "df_clean['smoker'] = df_clean['smoker'].map( { 'no': 0, 'yes': 1 } )\n",
        "df_clean['region'] = df_clean['region'].map(\n",
        "  { 'northeast': 1, 'northwest': 2, 'southeast': 3, 'southwest': 4 } )\n",
        "#df_clean.tail(2)\n",
        "#df_clean.info()\n",
        "\n",
        "# OR\n",
        "\n",
        "# 2.1.1. One-hot encode categorical features (columns)\n",
        "#df_clean = pd.get_dummies(df_clean, columns=['sex', 'smoker', 'region'], prefix=['sex', 'smoker', 'region'])\n",
        "\n",
        "# 2.1.2. Put 'expenses' as the last column\n",
        "#cols = df_clean.columns.to_list()\n",
        "#col_expenses = cols.pop( cols.index('expenses') )\n",
        "#cols.append(col_expenses)\n",
        "#df_clean = df_clean[cols]"
      ],
      "metadata": {
        "id": "nSEWN-X6NbQH"
      },
      "execution_count": 30,
      "outputs": []
    },
    {
      "cell_type": "markdown",
      "source": [
        "#### 3. Modelling"
      ],
      "metadata": {
        "id": "acJf-k7vVkqh"
      }
    },
    {
      "cell_type": "markdown",
      "source": [
        "##### DNN Model 1"
      ],
      "metadata": {
        "id": "5ScPDTVZvIsQ"
      }
    },
    {
      "cell_type": "code",
      "source": [
        "# Data Preprocessing...\n",
        "\n",
        "# 2.2. Use 80% of the data as the train_dataset and 20% of the data as the test_dataset.\n",
        "train_dataset = df_clean.sample(frac=0.8, random_state=0)\n",
        "test_dataset = df_clean.drop(train_dataset.index)\n",
        "\n",
        "# 2.3. pop off the \"expenses\" column from these datasets to create new \n",
        "# datasets called train_labels and test_labels. Use these labels when \n",
        "# training your model.\n",
        "train_features = train_dataset.copy()\n",
        "train_labels = train_features.pop('expenses')\n",
        "test_features = test_dataset.copy()\n",
        "test_labels = test_features.pop('expenses')\n",
        "\n",
        "\n",
        "# 3. Create Model and Train It - Regression with a Deep Neural Network (DNN)\n",
        "\n",
        "# 3.1. Create preprocessing layer for model to normalize data\n",
        "normalizer = tf.keras.layers.Normalization(axis=-1)\n",
        "normalizer.adapt(np.array(train_features))\n",
        "# https://keras.io/api/layers/preprocessing_layers/numerical/normalization/\n",
        "\n",
        "# 3.2. Create model\n",
        "model = keras.Sequential([\n",
        "    tf.keras.layers.Input(shape=(train_features.shape[1],)), # input layer (shape[1]=6 features)\n",
        "    normalizer, # preprocessing layer for normalization\n",
        "    tf.keras.layers.Dense(100, activation='relu'), # hidden layer 100 neurons\n",
        "    tf.keras.layers.Dense(50, activation='relu'), # hidden layer 50 neurons\n",
        "    tf.keras.layers.Dense(25, activation='relu'), # hidden layer 25 neurons\n",
        "    tf.keras.layers.Dense(1) # output layer 1 neuron\n",
        "])\n",
        "# https://keras.io/guides/sequential_model/\n",
        "\n",
        "model.summary()\n",
        "\n",
        "# 3.3. Compile model\n",
        "model.compile(optimizer=tf.keras.optimizers.Adam(learning_rate=0.001), \n",
        "              loss='mean_absolute_error',\n",
        "              metrics=['mean_absolute_error', 'mean_squared_error'])\n",
        "\n",
        "# 3.4. Train model\n",
        "#%%time\n",
        "history = model.fit(\n",
        "    train_features, train_labels,\n",
        "    batch_size=32, epochs=100, # (32,100), (70,100)\n",
        "    validation_split=0.2, # (0.2) # calculate validation results on 20% of the training data\n",
        "    #shuffle=True, steps_per_epoch=?, validation_Data=?, validation_steps=?,\n",
        "    verbose=0)\n",
        "\n",
        "# Plot loss and val_loss\n",
        "plot_loss(history)\n",
        "plt.show()\n",
        "\n",
        "# Evaluate model (objective: mae < 3500)\n",
        "print('Model Evaluation:')\n",
        "loss, mae, mse = model.evaluate(test_features, test_labels, verbose=1)\n",
        "[_, _, _, _, _, fit] = assess_training_loss(history, fit_tolerance=750)\n",
        "test_results['dnn_model_1'] = [loss, mae, mse, fit]\n",
        "\n",
        "# Print evaluation and training loss difference; print fit, training,\n",
        "# evaluation stats and if challenge passed\n",
        "print_stats(history, loss)\n",
        "\n",
        "\n",
        "# For further model performance comparison to choose the best one\n",
        "\n",
        "models_data['dnn_model_1'] = [ model, history, test_features, test_labels, fit ]"
      ],
      "metadata": {
        "colab": {
          "base_uri": "https://localhost:8080/",
          "height": 904
        },
        "id": "6dOW55E5dLnS",
        "outputId": "5e4d8050-1499-456e-a141-fda137b3d29a"
      },
      "execution_count": 31,
      "outputs": [
        {
          "output_type": "stream",
          "name": "stdout",
          "text": [
            "Model: \"sequential\"\n",
            "_________________________________________________________________\n",
            " Layer (type)                Output Shape              Param #   \n",
            "=================================================================\n",
            " normalization (Normalizatio  (None, 6)                13        \n",
            " n)                                                              \n",
            "                                                                 \n",
            " dense (Dense)               (None, 100)               700       \n",
            "                                                                 \n",
            " dense_1 (Dense)             (None, 50)                5050      \n",
            "                                                                 \n",
            " dense_2 (Dense)             (None, 25)                1275      \n",
            "                                                                 \n",
            " dense_3 (Dense)             (None, 1)                 26        \n",
            "                                                                 \n",
            "=================================================================\n",
            "Total params: 7,064\n",
            "Trainable params: 7,051\n",
            "Non-trainable params: 13\n",
            "_________________________________________________________________\n"
          ]
        },
        {
          "output_type": "display_data",
          "data": {
            "text/plain": [
              "<Figure size 432x288 with 1 Axes>"
            ],
            "image/png": "[encoded data removed]"
          },
          "metadata": {
            "needs_background": "light"
          }
        },
        {
          "output_type": "stream",
          "name": "stdout",
          "text": [
            "Model Evaluation:\n",
            "9/9 [==============================] - 0s 2ms/step - loss: 2711.7107 - mean_absolute_error: 2711.7107 - mean_squared_error: 35029320.0000\n",
            "\n",
            "----------------------------------------\n",
            "FIT\n",
            "Tolerance: 750\n",
            "Range: [1297.014892578125, 2797.014892578125]\n",
            "\n",
            "TRAINING\n",
            "Loss: 1871.593017578125\n",
            "Validation Loss: 2047.014892578125\n",
            "Diff.: 175.421875 (Good Fit)\n",
            "\n",
            "EVALUATION\n",
            "Loss (Mean Absolute Error): 2711.710693359375\n",
            "Challenge passed (mae < 3500): TRUE\n"
          ]
        }
      ]
    },
    {
      "cell_type": "code",
      "source": [
        "# Get stats from model training history\n",
        "#show_history_as_dataframe(history).tail(1)"
      ],
      "metadata": {
        "id": "UY_kFvDTEhq-"
      },
      "execution_count": 32,
      "outputs": []
    },
    {
      "cell_type": "code",
      "source": [
        "# Make predictions\n",
        "test_predictions = model.predict(test_features).flatten()\n",
        "plot_predictions(model, test_labels, test_predictions)"
      ],
      "metadata": {
        "colab": {
          "base_uri": "https://localhost:8080/",
          "height": 296
        },
        "id": "Qqg9IVWVD-Ce",
        "outputId": "539f7d15-5dd0-4bf3-83cd-aaefe7471525"
      },
      "execution_count": 33,
      "outputs": [
        {
          "output_type": "stream",
          "name": "stdout",
          "text": [
            "9/9 [==============================] - 0s 2ms/step\n"
          ]
        },
        {
          "output_type": "display_data",
          "data": {
            "text/plain": [
              "<Figure size 432x288 with 1 Axes>"
            ],
            "image/png": "[encoded data removed]"
          },
          "metadata": {
            "needs_background": "light"
          }
        }
      ]
    },
    {
      "cell_type": "code",
      "source": [
        "# Let’s take a look at the error distribution\n",
        "plot_prediction_error_distribution(test_predictions, test_labels)"
      ],
      "metadata": {
        "colab": {
          "base_uri": "https://localhost:8080/",
          "height": 279
        },
        "id": "Lv9jF3C04U8e",
        "outputId": "80be2944-c245-424d-9271-ddf9be497f43"
      },
      "execution_count": 34,
      "outputs": [
        {
          "output_type": "display_data",
          "data": {
            "text/plain": [
              "<Figure size 432x288 with 1 Axes>"
            ],
            "image/png": "[encoded data removed]"
          },
          "metadata": {
            "needs_background": "light"
          }
        }
      ]
    },
    {
      "cell_type": "markdown",
      "source": [
        "##### DNN Model 2"
      ],
      "metadata": {
        "id": "ugsJH2lXxuT0"
      }
    },
    {
      "cell_type": "code",
      "source": [
        "# Data Preprocessing...\n",
        "\n",
        "# 2.2. Split dataframe into features and labels\n",
        "X = df_clean.iloc[:, 0:-1].values # features (all columns except 'expenses')\n",
        "y = df_clean.iloc[:, -1:].values # labels (column 'expenses')\n",
        "\n",
        "# 2.3. Split data (features and labels) into test (20%) and training sets (80%)\n",
        "from sklearn.model_selection import train_test_split\n",
        "X_train, X_test, y_train, y_test = train_test_split(\n",
        "    X, y, test_size=0.2, random_state=42)\n",
        "\n",
        "# 2.4. Since all columns already are in numeric format, will not need to convert any values\n",
        "\n",
        "# 2.5. Create normalization layer to scale the dataset \n",
        "normalizer = tf.keras.layers.Normalization(axis=-1)\n",
        "normalizer.adapt(np.array(X_train))\n",
        "\n",
        "\n",
        "# 3. Create Model and Train It\n",
        "# 3.1. Create the layers for model\n",
        "input_layer = tf.keras.Input(shape=(X.shape[1],))\n",
        "normalization_layer = normalizer(input_layer)\n",
        "dense_layer_1 = tf.keras.layers.Dense(100, activation='relu')(normalization_layer)\n",
        "dense_layer_2 = tf.keras.layers.Dense(50, activation='relu')(dense_layer_1)\n",
        "dense_layer_3 = tf.keras.layers.Dense(25, activation='relu')(dense_layer_2)\n",
        "output = tf.keras.layers.Dense(1)(dense_layer_3)\n",
        "\n",
        "# 3.2. Create model\n",
        "model = tf.keras.Model(inputs=input_layer, outputs=output)\n",
        "\n",
        "# 3.3. Compile model\n",
        "model.compile(\n",
        "    optimizer=tf.keras.optimizers.Adam(learning_rate=0.001),\n",
        "    loss='mean_absolute_error',\n",
        "    metrics=['mean_absolute_error', 'mean_squared_error'])\n",
        "\n",
        "model.summary()\n",
        "\n",
        "# 3.4. Train model\n",
        "history = model.fit(\n",
        "    X_train, y_train,\n",
        "    batch_size=60, epochs=100, # (10,30), (30,57), (60,100)\n",
        "    validation_split=0.1, # (0.1)\n",
        "    verbose=0)\n",
        "\n",
        "# Plot loss and val_loss\n",
        "plot_loss(history)\n",
        "plt.show()\n",
        "\n",
        "# Evaluate model (objective: mae < 3500)\n",
        "print('Model Evaluation:')\n",
        "loss, mae, mse = model.evaluate(X_test, y_test, verbose=1)\n",
        "[_, _, _, _, _, fit] = assess_training_loss(history, fit_tolerance=750)\n",
        "test_results['dnn_model_2'] = [loss, mae, mse, fit]\n",
        "\n",
        "# Print evaluation and training loss difference; print fit, training,\n",
        "# evaluation stats and if challenge passed\n",
        "print_stats(history, loss)\n",
        "\n",
        "\n",
        "# For further model performance comparison to choose the best one\n",
        "models_data['dnn_model_2'] = [ model, history, X_test, y_test, fit ]"
      ],
      "metadata": {
        "colab": {
          "base_uri": "https://localhost:8080/",
          "height": 938
        },
        "id": "IuvMydAgt3wH",
        "outputId": "e677061f-7eb7-4cc5-df69-46b63b676400"
      },
      "execution_count": 35,
      "outputs": [
        {
          "output_type": "stream",
          "name": "stdout",
          "text": [
            "Model: \"model\"\n",
            "_________________________________________________________________\n",
            " Layer (type)                Output Shape              Param #   \n",
            "=================================================================\n",
            " input_2 (InputLayer)        [(None, 6)]               0         \n",
            "                                                                 \n",
            " normalization_1 (Normalizat  (None, 6)                13        \n",
            " ion)                                                            \n",
            "                                                                 \n",
            " dense_4 (Dense)             (None, 100)               700       \n",
            "                                                                 \n",
            " dense_5 (Dense)             (None, 50)                5050      \n",
            "                                                                 \n",
            " dense_6 (Dense)             (None, 25)                1275      \n",
            "                                                                 \n",
            " dense_7 (Dense)             (None, 1)                 26        \n",
            "                                                                 \n",
            "=================================================================\n",
            "Total params: 7,064\n",
            "Trainable params: 7,051\n",
            "Non-trainable params: 13\n",
            "_________________________________________________________________\n"
          ]
        },
        {
          "output_type": "display_data",
          "data": {
            "text/plain": [
              "<Figure size 432x288 with 1 Axes>"
            ],
            "image/png": "[encoded data removed]"
          },
          "metadata": {
            "needs_background": "light"
          }
        },
        {
          "output_type": "stream",
          "name": "stdout",
          "text": [
            "Model Evaluation:\n",
            "9/9 [==============================] - 0s 2ms/step - loss: 2435.9053 - mean_absolute_error: 2435.9053 - mean_squared_error: 26978790.0000\n",
            "\n",
            "----------------------------------------\n",
            "FIT\n",
            "Tolerance: 750\n",
            "Range: [1655.954833984375, 3155.954833984375]\n",
            "\n",
            "TRAINING\n",
            "Loss: 2545.2841796875\n",
            "Validation Loss: 2405.954833984375\n",
            "Diff.: -139.329345703125 (Good Fit)\n",
            "\n",
            "EVALUATION\n",
            "Loss (Mean Absolute Error): 2435.9052734375\n",
            "Challenge passed (mae < 3500): TRUE\n"
          ]
        }
      ]
    },
    {
      "cell_type": "code",
      "source": [
        "# Get stats from model training history\n",
        "#show_history_as_dataframe(history)"
      ],
      "metadata": {
        "id": "V1B6rYtuMiMV"
      },
      "execution_count": 36,
      "outputs": []
    },
    {
      "cell_type": "code",
      "source": [
        "# Make predictions\n",
        "y_predictions = model.predict(X_test).flatten()\n",
        "plot_predictions(model, test_labels=y_test, test_predictions=y_predictions)"
      ],
      "metadata": {
        "colab": {
          "base_uri": "https://localhost:8080/",
          "height": 296
        },
        "id": "JV613ec3MyCQ",
        "outputId": "b3d205e1-120d-474f-8797-a1e62a9d35cb"
      },
      "execution_count": 37,
      "outputs": [
        {
          "output_type": "stream",
          "name": "stdout",
          "text": [
            "9/9 [==============================] - 0s 2ms/step\n"
          ]
        },
        {
          "output_type": "display_data",
          "data": {
            "text/plain": [
              "<Figure size 432x288 with 1 Axes>"
            ],
            "image/png": "[encoded data removed]"
          },
          "metadata": {
            "needs_background": "light"
          }
        }
      ]
    },
    {
      "cell_type": "code",
      "source": [
        "# Let’s take a look at the error distribution\n",
        "plot_prediction_error_distribution(test_predictions=y_predictions.flatten(), test_labels=y_test.flatten())"
      ],
      "metadata": {
        "colab": {
          "base_uri": "https://localhost:8080/",
          "height": 279
        },
        "id": "1LsZLkiz4hSD",
        "outputId": "f71e6588-facf-4392-cc93-ca7fa56c8a9a"
      },
      "execution_count": 38,
      "outputs": [
        {
          "output_type": "display_data",
          "data": {
            "text/plain": [
              "<Figure size 432x288 with 1 Axes>"
            ],
            "image/png": "[encoded data removed]"
          },
          "metadata": {
            "needs_background": "light"
          }
        }
      ]
    },
    {
      "cell_type": "markdown",
      "source": [
        "##### **Aside:** Possible Hyper-Parameters"
      ],
      "metadata": {
        "id": "F2lijFpME6SE"
      }
    },
    {
      "cell_type": "code",
      "source": [
        "# Activation functions:\n",
        "#'relu', 'sigmoid', 'softmax', 'softplus', 'softsign', 'tanh', 'selu'\n",
        "#'elu', 'exponential'\n",
        "# https://keras.io/api/layers/activations/"
      ],
      "metadata": {
        "id": "Y03b20u-E8mO"
      },
      "execution_count": 39,
      "outputs": []
    },
    {
      "cell_type": "code",
      "source": [
        "# Optimizers:\n",
        "# 'sgd', 'rmsprop', 'adam', 'adamw', 'adadelta', 'adagrad', \n",
        "# 'adamax', 'adafactor', 'nadam', 'ftrl'\n",
        "# https://keras.io/api/optimizers/\n",
        "\n",
        "# Losses (for Regression):\n",
        "# 'mean_squared_error', 'mean_absolute_error'\n",
        "# 'mean_absolute_percentage_error', 'mean_squared_logarithmic_error'\n",
        "# 'cosine_similarity'\n",
        "# https://keras.io/api/losses/regression_losses/\n",
        "\n",
        "# Metrics (for Regression):\n",
        "# 'mean_squared_error', 'root_mean_squared_error', 'mean_absolute_error'\n",
        "# 'mean_absolute_percentage_error', 'mean_squared_logarithmic_error',\n",
        "# 'cosine_similarity', 'logcosh'\n",
        "# https://keras.io/api/metrics/regression_metrics/"
      ],
      "metadata": {
        "id": "3lqeu6lwFBJa"
      },
      "execution_count": 40,
      "outputs": []
    },
    {
      "cell_type": "code",
      "source": [
        "#-----------V2\n",
        "#model = keras.Sequential()\n",
        "#model.add(keras.Input(shape=(4,)))\n",
        "#model.add(layers.Dense(2, activation=\"relu\"))\n",
        "##model.add(layers.Dense(2, activation=\"relu\", input_shape=(4,)))\n",
        "#model.add(layers.Dense(3, activation=\"relu\"))\n",
        "#model.add(layers.Dense(4))\n",
        "#model.pop()\n",
        "#print(len(model.layers))\n",
        "#model.layers\n",
        "#model.weights\n",
        "#model.summary()"
      ],
      "metadata": {
        "id": "uz8185yUFPBD"
      },
      "execution_count": 41,
      "outputs": []
    },
    {
      "cell_type": "markdown",
      "source": [
        "#### 4. Compare Models Performance And Choose Best Model"
      ],
      "metadata": {
        "id": "pWvOWChlKWIl"
      }
    },
    {
      "cell_type": "code",
      "source": [
        "# Plot models evaluation history\n",
        "plot_models_history(models_data)"
      ],
      "metadata": {
        "colab": {
          "base_uri": "https://localhost:8080/",
          "height": 317
        },
        "id": "zKSNyuxwis_c",
        "outputId": "139adb16-5e26-4b73-f721-c316109e5d1d"
      },
      "execution_count": 42,
      "outputs": [
        {
          "output_type": "display_data",
          "data": {
            "text/plain": [
              "<Figure size 576x288 with 2 Axes>"
            ],
            "image/png": "[encoded data removed]"
          },
          "metadata": {
            "needs_background": "light"
          }
        }
      ]
    },
    {
      "cell_type": "code",
      "source": [
        "# Compare test results in dataframe format\n",
        "col_names = ['Loss [expenses]', 'mean_absolute_error', 'mean_squared_error', 'training_fit']\n",
        "print(pd.DataFrame(test_results, index=col_names).T) # 'T' stands for Transpose\n",
        "\n",
        "# Plot models comparison\n",
        "print()\n",
        "plot_models_comparison(test_results)"
      ],
      "metadata": {
        "colab": {
          "base_uri": "https://localhost:8080/",
          "height": 435
        },
        "id": "nPsieodCz78L",
        "outputId": "99e3a6f9-2097-4500-9da8-cf519e877212"
      },
      "execution_count": 43,
      "outputs": [
        {
          "output_type": "stream",
          "name": "stdout",
          "text": [
            "            Loss [expenses] mean_absolute_error mean_squared_error  \\\n",
            "dnn_model_1     2711.710693         2711.710693         35029320.0   \n",
            "dnn_model_2     2435.905273         2435.905273         26978790.0   \n",
            "\n",
            "            training_fit  \n",
            "dnn_model_1     Good Fit  \n",
            "dnn_model_2     Good Fit  \n",
            "\n"
          ]
        },
        {
          "output_type": "display_data",
          "data": {
            "text/plain": [
              "<Figure size 432x288 with 1 Axes>"
            ],
            "image/png": "[encoded data removed]"
          },
          "metadata": {
            "needs_background": "light"
          }
        }
      ]
    },
    {
      "cell_type": "code",
      "source": [
        "# Select model with best performance\n",
        "best_model_key = min(test_results.items(), key=lambda x: x[1][1])[0]\n",
        "\n",
        "# Assign best model data to adequate variables for FCC to test the model\n",
        "[model, history, test_dataset, test_labels, fit] = models_data[best_model_key]\n",
        "\n",
        "print('Best Model: {best} ({training_fit})'.format(best=best_model_key, training_fit=fit))"
      ],
      "metadata": {
        "colab": {
          "base_uri": "https://localhost:8080/"
        },
        "id": "8OlXNBNHikf-",
        "outputId": "c7874071-3dcf-4317-ce99-0a55edf781c2"
      },
      "execution_count": 44,
      "outputs": [
        {
          "output_type": "stream",
          "name": "stdout",
          "text": [
            "Best Model: dnn_model_2 (Good Fit)\n"
          ]
        }
      ]
    },
    {
      "cell_type": "markdown",
      "source": [
        "#### 5. Make A Prediction To Check Best Model Accuracy"
      ],
      "metadata": {
        "id": "dgUlyVtuPLX0"
      }
    },
    {
      "cell_type": "markdown",
      "source": [
        "##### Auxiliary Functions"
      ],
      "metadata": {
        "id": "g5hGZ1FyTW-4"
      }
    },
    {
      "cell_type": "code",
      "source": [
        "# Auxiliary Functions\n",
        "\n",
        "# Translate data (for categorical features/columns):\n",
        "def translate_sex(sex):\n",
        "  if sex == 1: return 'female'\n",
        "  elif sex == 2: return 'male'\n",
        "  else: ''\n",
        "def translate_region(region):\n",
        "  if region == 1: return 'northeast'\n",
        "  elif region == 2: return 'northwest'\n",
        "  elif region == 3: return 'southeast'\n",
        "  elif region == 4: return 'southwest'\n",
        "  else: ''\n",
        "\n",
        "# Query dataframe for similar data\n",
        "def query_dataframe_for_similar_data(age, sex, bmi, children, smoker, region):\n",
        "  queried_data = df_clean.query(\n",
        "      'age >= {} and age <= {}'.format(age-2, age+2)).query(\n",
        "      'sex == {}'.format(sex)).query(\n",
        "      'bmi >= {} and bmi <= {}'.format(bmi-10, bmi+10)).query(\n",
        "      'children == {}'.format(children)).query(\n",
        "      'smoker == {}'.format(smoker)).query(\n",
        "      'region == {}'.format(region))\n",
        "  queried_data['sex'] = [translate_sex(d) for d in queried_data['sex'].values]\n",
        "  queried_data['region'] = [translate_region(d) for d in queried_data['region'].values]\n",
        "  queried_data = queried_data.sort_values(by=['expenses'], ascending=False)\n",
        "  return queried_data"
      ],
      "metadata": {
        "id": "mIVmqWuNkpJs"
      },
      "execution_count": 45,
      "outputs": []
    },
    {
      "cell_type": "markdown",
      "source": [
        "##### Predict and Check"
      ],
      "metadata": {
        "id": "TGXUpbI6Tafb"
      }
    },
    {
      "cell_type": "code",
      "source": [
        "# Choose query values:\n",
        "age = 50; sex = 1; bmi = 35.0; children = 2; smoker = 0; region = 1\n",
        "\n",
        "# Query features and possible values\n",
        "# age(18-64) sex(1,2) bmi(16.0-53.1) children(0,1,2,3,4,5) smoker(0,1) region(1,2,3,4)\n",
        "#-------------------------------------------------------------------\n",
        "\n",
        "# Create dataframe with query data\n",
        "data = pd.DataFrame(data=[[age,sex,bmi,children,smoker,region]], columns=test_features.columns)\n",
        "\n",
        "# Use best model or choose a model from models_data\n",
        "model_pred = models_data[best_model_key][0]\n",
        "#model_pred = models_data['dnn_model_1'][0]\n",
        "\n",
        "# Predict expenses\n",
        "pred_data = data.copy()\n",
        "pred_data['expenses_prediction'] = model_pred.predict(data).flatten()[0]\n",
        "# Translate categorical features values\n",
        "pred_data['sex'] = translate_sex(data['sex'].values[0])\n",
        "pred_data['region'] = translate_region(data['region'].values[0])\n",
        "\n",
        "print('\\nPREDICTION:'); print(pred_data); print()\n",
        "\n",
        "\n",
        "# Check prediction by querying dataframe for similar data\n",
        "queried_data = ''\n",
        "if df_clean.shape[1] == 7:\n",
        "  queried_data = query_dataframe_for_similar_data(age, sex, bmi, children, smoker, region)\n",
        "#queried_data.value_counts().count()\n",
        "\n",
        "print('DATAFRAME QUERY (SIMILAR DATA):'); print(queried_data.head(5))"
      ],
      "metadata": {
        "colab": {
          "base_uri": "https://localhost:8080/"
        },
        "id": "1bM9Sl2aPQH1",
        "outputId": "9c9a1198-d148-480f-b7a7-f660c9871fb6"
      },
      "execution_count": 50,
      "outputs": [
        {
          "output_type": "stream",
          "name": "stdout",
          "text": [
            "1/1 [==============================] - 0s 58ms/step\n",
            "\n",
            "PREDICTION:\n",
            "   age     sex   bmi  children  smoker     region  expenses_prediction\n",
            "0   50  female  35.0         2       0  northeast         10957.382812\n",
            "\n",
            "DATAFRAME QUERY (SIMILAR DATA):\n",
            "      age     sex   bmi  children  smoker     region  expenses\n",
            "405    52  female  38.4         2       0  northeast  11396.90\n",
            "1264   49  female  33.3         2       0  northeast  10370.91\n",
            "360    48  female  32.3         2       0  northeast  10043.25\n"
          ]
        }
      ]
    },
    {
      "cell_type": "markdown",
      "source": [
        "#### Save Model / Reload Model"
      ],
      "metadata": {
        "id": "67DlvtA0SVpy"
      }
    },
    {
      "cell_type": "code",
      "source": [
        "# Save model (if you are happy with it)\n",
        "#model.save('dnn_model')"
      ],
      "metadata": {
        "id": "WhXdiiuXM6Af"
      },
      "execution_count": 47,
      "outputs": []
    },
    {
      "cell_type": "code",
      "source": [
        "# Reload model\n",
        "#reloaded = tf.keras.models.load_model('dnn_model')\n",
        "\n",
        "#test_results['reloaded'] = reloaded.evaluate(\n",
        "#    test_features, test_labels, verbose=0)\n",
        "\n",
        "#pd.DataFrame(test_results, index=['Mean absolute error [expenses]']).T"
      ],
      "metadata": {
        "id": "gOXvvdOuM8_I"
      },
      "execution_count": 48,
      "outputs": []
    },
    {
      "cell_type": "markdown",
      "source": [
        "### 9. Test Your Model (FCC)"
      ],
      "metadata": {
        "id": "57eGJi-AJlKV"
      }
    },
    {
      "cell_type": "code",
      "execution_count": 49,
      "metadata": {
        "id": "Xe7RXH3N3CWU",
        "colab": {
          "base_uri": "https://localhost:8080/",
          "height": 352
        },
        "outputId": "2359c2fc-612b-4900-8970-2439541c2927"
      },
      "outputs": [
        {
          "output_type": "stream",
          "name": "stdout",
          "text": [
            "9/9 - 0s - loss: 2435.9053 - mean_absolute_error: 2435.9053 - mean_squared_error: 26978790.0000 - 35ms/epoch - 4ms/step\n",
            "Testing set Mean Abs Error: 2435.91 expenses\n",
            "You passed the challenge. Great job!\n",
            "9/9 [==============================] - 0s 2ms/step\n"
          ]
        },
        {
          "output_type": "display_data",
          "data": {
            "text/plain": [
              "<Figure size 432x288 with 1 Axes>"
            ],
            "image/png": "[encoded data removed]"
          },
          "metadata": {
            "needs_background": "light"
          }
        }
      ],
      "source": [
        "# RUN THIS CELL TO TEST YOUR MODEL. DO NOT MODIFY CONTENTS.\n",
        "# Test model by checking how well the model generalizes using the test set.\n",
        "loss, mae, mse = model.evaluate(test_dataset, test_labels, verbose=2)\n",
        "\n",
        "print(\"Testing set Mean Abs Error: {:5.2f} expenses\".format(mae))\n",
        "\n",
        "if mae < 3500:\n",
        "  print(\"You passed the challenge. Great job!\")\n",
        "else:\n",
        "  print(\"The Mean Abs Error must be less than 3500. Keep trying.\")\n",
        "\n",
        "# Plot predictions.\n",
        "test_predictions = model.predict(test_dataset).flatten()\n",
        "\n",
        "a = plt.axes(aspect='equal')\n",
        "plt.scatter(test_labels, test_predictions)\n",
        "plt.xlabel('True values (expenses)')\n",
        "plt.ylabel('Predictions (expenses)')\n",
        "lims = [0, 50000]\n",
        "plt.xlim(lims)\n",
        "plt.ylim(lims)\n",
        "_ = plt.plot(lims,lims)\n"
      ]
    }
  ],
  "metadata": {
    "colab": {
      "provenance": [],
      "collapsed_sections": [
        "LDFjr4z17s8o",
        "YUiF0tNs0Vyd",
        "iJB22UWHNVGk",
        "5ScPDTVZvIsQ",
        "ugsJH2lXxuT0",
        "F2lijFpME6SE",
        "g5hGZ1FyTW-4",
        "67DlvtA0SVpy"
      ]
    },
    "kernelspec": {
      "display_name": "Python 3",
      "name": "python3"
    },
    "gpuClass": "standard"
  },
  "nbformat": 4,
  "nbformat_minor": 0
}